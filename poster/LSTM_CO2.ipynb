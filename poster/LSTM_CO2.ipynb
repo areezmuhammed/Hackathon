{
  "nbformat": 4,
  "nbformat_minor": 0,
  "metadata": {
    "colab": {
      "provenance": []
    },
    "kernelspec": {
      "name": "python3",
      "display_name": "Python 3"
    },
    "language_info": {
      "name": "python"
    }
  },
  "cells": [
    {
      "cell_type": "code",
      "execution_count": 41,
      "metadata": {
        "id": "xwulgRkFvnH1"
      },
      "outputs": [],
      "source": [
        "import pandas as pd\n",
        "import numpy as np\n",
        "import matplotlib.pyplot as plt\n",
        "import seaborn as sns\n",
        "from sklearn.preprocessing import MinMaxScaler, StandardScaler, LabelEncoder\n",
        "from sklearn.ensemble import IsolationForest\n",
        "from sklearn.model_selection import train_test_split\n",
        "from sklearn.metrics import mean_squared_error, classification_report\n",
        "import tensorflow as tf\n",
        "from tensorflow.keras.models import Sequential, Model\n",
        "from tensorflow.keras.layers import LSTM, Dense, Dropout, Input, Attention, Concatenate\n",
        "from tensorflow.keras.optimizers import Adam\n",
        "from tensorflow.keras.callbacks import EarlyStopping\n",
        "import joblib\n",
        "from scipy.fftpack import fft\n",
        "from sklearn.utils import resample\n",
        "import os\n",
        "# Ignore harmless warnings\n",
        "import warnings\n",
        "warnings.filterwarnings(\"ignore\")\n"
      ]
    },
    {
      "cell_type": "code",
      "source": [
        "#importing data\n",
        "from google.colab import files\n",
        "uploaded = files.upload()"
      ],
      "metadata": {
        "colab": {
          "base_uri": "https://localhost:8080/",
          "height": 71
        },
        "id": "lP_L-pXhv1dL",
        "outputId": "edcf4b48-6ad9-4429-eb4f-2949977d0260"
      },
      "execution_count": 42,
      "outputs": [
        {
          "output_type": "display_data",
          "data": {
            "text/plain": [
              "<IPython.core.display.HTML object>"
            ],
            "text/html": [
              "\n",
              "     <input type=\"file\" id=\"files-3d5bb175-2a14-44ea-adf6-a5bfda18bfaf\" name=\"files[]\" multiple disabled\n",
              "        style=\"border:none\" />\n",
              "     <output id=\"result-3d5bb175-2a14-44ea-adf6-a5bfda18bfaf\">\n",
              "      Upload widget is only available when the cell has been executed in the\n",
              "      current browser session. Please rerun this cell to enable.\n",
              "      </output>\n",
              "      <script>// Copyright 2017 Google LLC\n",
              "//\n",
              "// Licensed under the Apache License, Version 2.0 (the \"License\");\n",
              "// you may not use this file except in compliance with the License.\n",
              "// You may obtain a copy of the License at\n",
              "//\n",
              "//      http://www.apache.org/licenses/LICENSE-2.0\n",
              "//\n",
              "// Unless required by applicable law or agreed to in writing, software\n",
              "// distributed under the License is distributed on an \"AS IS\" BASIS,\n",
              "// WITHOUT WARRANTIES OR CONDITIONS OF ANY KIND, either express or implied.\n",
              "// See the License for the specific language governing permissions and\n",
              "// limitations under the License.\n",
              "\n",
              "/**\n",
              " * @fileoverview Helpers for google.colab Python module.\n",
              " */\n",
              "(function(scope) {\n",
              "function span(text, styleAttributes = {}) {\n",
              "  const element = document.createElement('span');\n",
              "  element.textContent = text;\n",
              "  for (const key of Object.keys(styleAttributes)) {\n",
              "    element.style[key] = styleAttributes[key];\n",
              "  }\n",
              "  return element;\n",
              "}\n",
              "\n",
              "// Max number of bytes which will be uploaded at a time.\n",
              "const MAX_PAYLOAD_SIZE = 100 * 1024;\n",
              "\n",
              "function _uploadFiles(inputId, outputId) {\n",
              "  const steps = uploadFilesStep(inputId, outputId);\n",
              "  const outputElement = document.getElementById(outputId);\n",
              "  // Cache steps on the outputElement to make it available for the next call\n",
              "  // to uploadFilesContinue from Python.\n",
              "  outputElement.steps = steps;\n",
              "\n",
              "  return _uploadFilesContinue(outputId);\n",
              "}\n",
              "\n",
              "// This is roughly an async generator (not supported in the browser yet),\n",
              "// where there are multiple asynchronous steps and the Python side is going\n",
              "// to poll for completion of each step.\n",
              "// This uses a Promise to block the python side on completion of each step,\n",
              "// then passes the result of the previous step as the input to the next step.\n",
              "function _uploadFilesContinue(outputId) {\n",
              "  const outputElement = document.getElementById(outputId);\n",
              "  const steps = outputElement.steps;\n",
              "\n",
              "  const next = steps.next(outputElement.lastPromiseValue);\n",
              "  return Promise.resolve(next.value.promise).then((value) => {\n",
              "    // Cache the last promise value to make it available to the next\n",
              "    // step of the generator.\n",
              "    outputElement.lastPromiseValue = value;\n",
              "    return next.value.response;\n",
              "  });\n",
              "}\n",
              "\n",
              "/**\n",
              " * Generator function which is called between each async step of the upload\n",
              " * process.\n",
              " * @param {string} inputId Element ID of the input file picker element.\n",
              " * @param {string} outputId Element ID of the output display.\n",
              " * @return {!Iterable<!Object>} Iterable of next steps.\n",
              " */\n",
              "function* uploadFilesStep(inputId, outputId) {\n",
              "  const inputElement = document.getElementById(inputId);\n",
              "  inputElement.disabled = false;\n",
              "\n",
              "  const outputElement = document.getElementById(outputId);\n",
              "  outputElement.innerHTML = '';\n",
              "\n",
              "  const pickedPromise = new Promise((resolve) => {\n",
              "    inputElement.addEventListener('change', (e) => {\n",
              "      resolve(e.target.files);\n",
              "    });\n",
              "  });\n",
              "\n",
              "  const cancel = document.createElement('button');\n",
              "  inputElement.parentElement.appendChild(cancel);\n",
              "  cancel.textContent = 'Cancel upload';\n",
              "  const cancelPromise = new Promise((resolve) => {\n",
              "    cancel.onclick = () => {\n",
              "      resolve(null);\n",
              "    };\n",
              "  });\n",
              "\n",
              "  // Wait for the user to pick the files.\n",
              "  const files = yield {\n",
              "    promise: Promise.race([pickedPromise, cancelPromise]),\n",
              "    response: {\n",
              "      action: 'starting',\n",
              "    }\n",
              "  };\n",
              "\n",
              "  cancel.remove();\n",
              "\n",
              "  // Disable the input element since further picks are not allowed.\n",
              "  inputElement.disabled = true;\n",
              "\n",
              "  if (!files) {\n",
              "    return {\n",
              "      response: {\n",
              "        action: 'complete',\n",
              "      }\n",
              "    };\n",
              "  }\n",
              "\n",
              "  for (const file of files) {\n",
              "    const li = document.createElement('li');\n",
              "    li.append(span(file.name, {fontWeight: 'bold'}));\n",
              "    li.append(span(\n",
              "        `(${file.type || 'n/a'}) - ${file.size} bytes, ` +\n",
              "        `last modified: ${\n",
              "            file.lastModifiedDate ? file.lastModifiedDate.toLocaleDateString() :\n",
              "                                    'n/a'} - `));\n",
              "    const percent = span('0% done');\n",
              "    li.appendChild(percent);\n",
              "\n",
              "    outputElement.appendChild(li);\n",
              "\n",
              "    const fileDataPromise = new Promise((resolve) => {\n",
              "      const reader = new FileReader();\n",
              "      reader.onload = (e) => {\n",
              "        resolve(e.target.result);\n",
              "      };\n",
              "      reader.readAsArrayBuffer(file);\n",
              "    });\n",
              "    // Wait for the data to be ready.\n",
              "    let fileData = yield {\n",
              "      promise: fileDataPromise,\n",
              "      response: {\n",
              "        action: 'continue',\n",
              "      }\n",
              "    };\n",
              "\n",
              "    // Use a chunked sending to avoid message size limits. See b/62115660.\n",
              "    let position = 0;\n",
              "    do {\n",
              "      const length = Math.min(fileData.byteLength - position, MAX_PAYLOAD_SIZE);\n",
              "      const chunk = new Uint8Array(fileData, position, length);\n",
              "      position += length;\n",
              "\n",
              "      const base64 = btoa(String.fromCharCode.apply(null, chunk));\n",
              "      yield {\n",
              "        response: {\n",
              "          action: 'append',\n",
              "          file: file.name,\n",
              "          data: base64,\n",
              "        },\n",
              "      };\n",
              "\n",
              "      let percentDone = fileData.byteLength === 0 ?\n",
              "          100 :\n",
              "          Math.round((position / fileData.byteLength) * 100);\n",
              "      percent.textContent = `${percentDone}% done`;\n",
              "\n",
              "    } while (position < fileData.byteLength);\n",
              "  }\n",
              "\n",
              "  // All done.\n",
              "  yield {\n",
              "    response: {\n",
              "      action: 'complete',\n",
              "    }\n",
              "  };\n",
              "}\n",
              "\n",
              "scope.google = scope.google || {};\n",
              "scope.google.colab = scope.google.colab || {};\n",
              "scope.google.colab._files = {\n",
              "  _uploadFiles,\n",
              "  _uploadFilesContinue,\n",
              "};\n",
              "})(self);\n",
              "</script> "
            ]
          },
          "metadata": {}
        },
        {
          "output_type": "stream",
          "name": "stdout",
          "text": [
            "Saving 2005-2022-local-authority-ghg-emissions-csv-dataset.csv to 2005-2022-local-authority-ghg-emissions-csv-dataset (1).csv\n"
          ]
        }
      ]
    },
    {
      "cell_type": "code",
      "source": [
        "# Load the datasets again\n",
        "df = pd.read_csv('2005-2022-local-authority-ghg-emissions-csv-dataset.csv')"
      ],
      "metadata": {
        "id": "E3wre51YvoZb"
      },
      "execution_count": 43,
      "outputs": []
    },
    {
      "cell_type": "code",
      "source": [
        "# Filtering out the Region\n",
        "yh_df = df[\n",
        "    (df['Country'] == 'England') &\n",
        "    (df['Region'] == 'Yorkshire and the Humber') &\n",
        "    (df['Local Authority'] != 'Unallocated')\n",
        "]"
      ],
      "metadata": {
        "id": "Hxlyytl8xA4h"
      },
      "execution_count": 44,
      "outputs": []
    },
    {
      "cell_type": "code",
      "source": [
        "# Columns to drop\n",
        "columns_to_drop = [\n",
        "    'Country', 'Country Code', 'Region Code',\n",
        "    'Second Tier Authority', 'Local Authority Code',\n",
        "    'Greenhouse gas'\n",
        "]\n",
        "\n",
        "# Drop the unnecessary columns\n",
        "df1 = yh_df.drop(columns=columns_to_drop)\n"
      ],
      "metadata": {
        "id": "Xl8pNVebxCsf"
      },
      "execution_count": 45,
      "outputs": []
    },
    {
      "cell_type": "code",
      "source": [
        "# Clean up column names by stripping whitespace\n",
        "df1.columns = df1.columns.str.strip()\n",
        "\n",
        "# Convert 'Calendar Year' to timestamp\n",
        "df1['timestamp'] = pd.to_datetime(df1['Calendar Year'], format='%Y')\n",
        "\n",
        "# Set it as index\n",
        "df1.set_index('timestamp', inplace=True)\n"
      ],
      "metadata": {
        "id": "OADcBAUHwZOX"
      },
      "execution_count": 46,
      "outputs": []
    },
    {
      "cell_type": "code",
      "source": [
        "print(df1.columns)"
      ],
      "metadata": {
        "colab": {
          "base_uri": "https://localhost:8080/"
        },
        "id": "HrZQ3Zx_wmUl",
        "outputId": "2d8c42da-66fe-4ed2-f430-f2331857439c"
      },
      "execution_count": 47,
      "outputs": [
        {
          "output_type": "stream",
          "name": "stdout",
          "text": [
            "Index(['Region', 'Local Authority', 'Calendar Year', 'LA GHG Sector',\n",
            "       'LA GHG Sub-sector', 'Territorial emissions (kt CO2e)',\n",
            "       'CO2 emissions within the scope of influence of LAs (kt CO2)',\n",
            "       'Mid-year Population (thousands)', 'Area (km2)'],\n",
            "      dtype='object')\n"
          ]
        }
      ]
    },
    {
      "cell_type": "code",
      "source": [
        "df1.describe().T"
      ],
      "metadata": {
        "colab": {
          "base_uri": "https://localhost:8080/",
          "height": 206
        },
        "id": "6igMWKtLwndn",
        "outputId": "488c6c68-2947-478a-b580-06f397e5f017"
      },
      "execution_count": 48,
      "outputs": [
        {
          "output_type": "execute_result",
          "data": {
            "text/plain": [
              "                                                      count         mean  \\\n",
              "Calendar Year                                       22865.0  2013.483709   \n",
              "Territorial emissions (kt CO2e)                     22865.0    37.675902   \n",
              "CO2 emissions within the scope of influence of ...  22865.0    23.809651   \n",
              "Mid-year Population (thousands)                     22865.0   357.599112   \n",
              "Area (km2)                                          22865.0  1046.996103   \n",
              "\n",
              "                                                            std          min  \\\n",
              "Calendar Year                                          5.193745  2005.000000   \n",
              "Territorial emissions (kt CO2e)                      218.247020  -447.123117   \n",
              "CO2 emissions within the scope of influence of ...    82.830986     0.000000   \n",
              "Mid-year Population (thousands)                      176.867101   157.197000   \n",
              "Area (km2)                                          1964.294146    81.497400   \n",
              "\n",
              "                                                            25%          50%  \\\n",
              "Calendar Year                                       2009.000000  2013.000000   \n",
              "Territorial emissions (kt CO2e)                        0.094400     1.275001   \n",
              "CO2 emissions within the scope of influence of ...     0.000000     0.000000   \n",
              "Mid-year Population (thousands)                      210.021105   303.354218   \n",
              "Area (km2)                                           286.534300   366.419800   \n",
              "\n",
              "                                                            75%          max  \n",
              "Calendar Year                                       2018.000000  2022.000000  \n",
              "Territorial emissions (kt CO2e)                       12.167545  9574.527472  \n",
              "CO2 emissions within the scope of influence of ...     0.000000  1055.481287  \n",
              "Mid-year Population (thousands)                      518.002000   822.483000  \n",
              "Area (km2)                                           568.551300  8052.192800  "
            ],
            "text/html": [
              "\n",
              "  <div id=\"df-fae02ee0-8d86-4dbb-861d-05bec56f83da\" class=\"colab-df-container\">\n",
              "    <div>\n",
              "<style scoped>\n",
              "    .dataframe tbody tr th:only-of-type {\n",
              "        vertical-align: middle;\n",
              "    }\n",
              "\n",
              "    .dataframe tbody tr th {\n",
              "        vertical-align: top;\n",
              "    }\n",
              "\n",
              "    .dataframe thead th {\n",
              "        text-align: right;\n",
              "    }\n",
              "</style>\n",
              "<table border=\"1\" class=\"dataframe\">\n",
              "  <thead>\n",
              "    <tr style=\"text-align: right;\">\n",
              "      <th></th>\n",
              "      <th>count</th>\n",
              "      <th>mean</th>\n",
              "      <th>std</th>\n",
              "      <th>min</th>\n",
              "      <th>25%</th>\n",
              "      <th>50%</th>\n",
              "      <th>75%</th>\n",
              "      <th>max</th>\n",
              "    </tr>\n",
              "  </thead>\n",
              "  <tbody>\n",
              "    <tr>\n",
              "      <th>Calendar Year</th>\n",
              "      <td>22865.0</td>\n",
              "      <td>2013.483709</td>\n",
              "      <td>5.193745</td>\n",
              "      <td>2005.000000</td>\n",
              "      <td>2009.000000</td>\n",
              "      <td>2013.000000</td>\n",
              "      <td>2018.000000</td>\n",
              "      <td>2022.000000</td>\n",
              "    </tr>\n",
              "    <tr>\n",
              "      <th>Territorial emissions (kt CO2e)</th>\n",
              "      <td>22865.0</td>\n",
              "      <td>37.675902</td>\n",
              "      <td>218.247020</td>\n",
              "      <td>-447.123117</td>\n",
              "      <td>0.094400</td>\n",
              "      <td>1.275001</td>\n",
              "      <td>12.167545</td>\n",
              "      <td>9574.527472</td>\n",
              "    </tr>\n",
              "    <tr>\n",
              "      <th>CO2 emissions within the scope of influence of LAs (kt CO2)</th>\n",
              "      <td>22865.0</td>\n",
              "      <td>23.809651</td>\n",
              "      <td>82.830986</td>\n",
              "      <td>0.000000</td>\n",
              "      <td>0.000000</td>\n",
              "      <td>0.000000</td>\n",
              "      <td>0.000000</td>\n",
              "      <td>1055.481287</td>\n",
              "    </tr>\n",
              "    <tr>\n",
              "      <th>Mid-year Population (thousands)</th>\n",
              "      <td>22865.0</td>\n",
              "      <td>357.599112</td>\n",
              "      <td>176.867101</td>\n",
              "      <td>157.197000</td>\n",
              "      <td>210.021105</td>\n",
              "      <td>303.354218</td>\n",
              "      <td>518.002000</td>\n",
              "      <td>822.483000</td>\n",
              "    </tr>\n",
              "    <tr>\n",
              "      <th>Area (km2)</th>\n",
              "      <td>22865.0</td>\n",
              "      <td>1046.996103</td>\n",
              "      <td>1964.294146</td>\n",
              "      <td>81.497400</td>\n",
              "      <td>286.534300</td>\n",
              "      <td>366.419800</td>\n",
              "      <td>568.551300</td>\n",
              "      <td>8052.192800</td>\n",
              "    </tr>\n",
              "  </tbody>\n",
              "</table>\n",
              "</div>\n",
              "    <div class=\"colab-df-buttons\">\n",
              "\n",
              "  <div class=\"colab-df-container\">\n",
              "    <button class=\"colab-df-convert\" onclick=\"convertToInteractive('df-fae02ee0-8d86-4dbb-861d-05bec56f83da')\"\n",
              "            title=\"Convert this dataframe to an interactive table.\"\n",
              "            style=\"display:none;\">\n",
              "\n",
              "  <svg xmlns=\"http://www.w3.org/2000/svg\" height=\"24px\" viewBox=\"0 -960 960 960\">\n",
              "    <path d=\"M120-120v-720h720v720H120Zm60-500h600v-160H180v160Zm220 220h160v-160H400v160Zm0 220h160v-160H400v160ZM180-400h160v-160H180v160Zm440 0h160v-160H620v160ZM180-180h160v-160H180v160Zm440 0h160v-160H620v160Z\"/>\n",
              "  </svg>\n",
              "    </button>\n",
              "\n",
              "  <style>\n",
              "    .colab-df-container {\n",
              "      display:flex;\n",
              "      gap: 12px;\n",
              "    }\n",
              "\n",
              "    .colab-df-convert {\n",
              "      background-color: #E8F0FE;\n",
              "      border: none;\n",
              "      border-radius: 50%;\n",
              "      cursor: pointer;\n",
              "      display: none;\n",
              "      fill: #1967D2;\n",
              "      height: 32px;\n",
              "      padding: 0 0 0 0;\n",
              "      width: 32px;\n",
              "    }\n",
              "\n",
              "    .colab-df-convert:hover {\n",
              "      background-color: #E2EBFA;\n",
              "      box-shadow: 0px 1px 2px rgba(60, 64, 67, 0.3), 0px 1px 3px 1px rgba(60, 64, 67, 0.15);\n",
              "      fill: #174EA6;\n",
              "    }\n",
              "\n",
              "    .colab-df-buttons div {\n",
              "      margin-bottom: 4px;\n",
              "    }\n",
              "\n",
              "    [theme=dark] .colab-df-convert {\n",
              "      background-color: #3B4455;\n",
              "      fill: #D2E3FC;\n",
              "    }\n",
              "\n",
              "    [theme=dark] .colab-df-convert:hover {\n",
              "      background-color: #434B5C;\n",
              "      box-shadow: 0px 1px 3px 1px rgba(0, 0, 0, 0.15);\n",
              "      filter: drop-shadow(0px 1px 2px rgba(0, 0, 0, 0.3));\n",
              "      fill: #FFFFFF;\n",
              "    }\n",
              "  </style>\n",
              "\n",
              "    <script>\n",
              "      const buttonEl =\n",
              "        document.querySelector('#df-fae02ee0-8d86-4dbb-861d-05bec56f83da button.colab-df-convert');\n",
              "      buttonEl.style.display =\n",
              "        google.colab.kernel.accessAllowed ? 'block' : 'none';\n",
              "\n",
              "      async function convertToInteractive(key) {\n",
              "        const element = document.querySelector('#df-fae02ee0-8d86-4dbb-861d-05bec56f83da');\n",
              "        const dataTable =\n",
              "          await google.colab.kernel.invokeFunction('convertToInteractive',\n",
              "                                                    [key], {});\n",
              "        if (!dataTable) return;\n",
              "\n",
              "        const docLinkHtml = 'Like what you see? Visit the ' +\n",
              "          '<a target=\"_blank\" href=https://colab.research.google.com/notebooks/data_table.ipynb>data table notebook</a>'\n",
              "          + ' to learn more about interactive tables.';\n",
              "        element.innerHTML = '';\n",
              "        dataTable['output_type'] = 'display_data';\n",
              "        await google.colab.output.renderOutput(dataTable, element);\n",
              "        const docLink = document.createElement('div');\n",
              "        docLink.innerHTML = docLinkHtml;\n",
              "        element.appendChild(docLink);\n",
              "      }\n",
              "    </script>\n",
              "  </div>\n",
              "\n",
              "\n",
              "<div id=\"df-2928425d-b278-4b97-863f-468c096d81e8\">\n",
              "  <button class=\"colab-df-quickchart\" onclick=\"quickchart('df-2928425d-b278-4b97-863f-468c096d81e8')\"\n",
              "            title=\"Suggest charts\"\n",
              "            style=\"display:none;\">\n",
              "\n",
              "<svg xmlns=\"http://www.w3.org/2000/svg\" height=\"24px\"viewBox=\"0 0 24 24\"\n",
              "     width=\"24px\">\n",
              "    <g>\n",
              "        <path d=\"M19 3H5c-1.1 0-2 .9-2 2v14c0 1.1.9 2 2 2h14c1.1 0 2-.9 2-2V5c0-1.1-.9-2-2-2zM9 17H7v-7h2v7zm4 0h-2V7h2v10zm4 0h-2v-4h2v4z\"/>\n",
              "    </g>\n",
              "</svg>\n",
              "  </button>\n",
              "\n",
              "<style>\n",
              "  .colab-df-quickchart {\n",
              "      --bg-color: #E8F0FE;\n",
              "      --fill-color: #1967D2;\n",
              "      --hover-bg-color: #E2EBFA;\n",
              "      --hover-fill-color: #174EA6;\n",
              "      --disabled-fill-color: #AAA;\n",
              "      --disabled-bg-color: #DDD;\n",
              "  }\n",
              "\n",
              "  [theme=dark] .colab-df-quickchart {\n",
              "      --bg-color: #3B4455;\n",
              "      --fill-color: #D2E3FC;\n",
              "      --hover-bg-color: #434B5C;\n",
              "      --hover-fill-color: #FFFFFF;\n",
              "      --disabled-bg-color: #3B4455;\n",
              "      --disabled-fill-color: #666;\n",
              "  }\n",
              "\n",
              "  .colab-df-quickchart {\n",
              "    background-color: var(--bg-color);\n",
              "    border: none;\n",
              "    border-radius: 50%;\n",
              "    cursor: pointer;\n",
              "    display: none;\n",
              "    fill: var(--fill-color);\n",
              "    height: 32px;\n",
              "    padding: 0;\n",
              "    width: 32px;\n",
              "  }\n",
              "\n",
              "  .colab-df-quickchart:hover {\n",
              "    background-color: var(--hover-bg-color);\n",
              "    box-shadow: 0 1px 2px rgba(60, 64, 67, 0.3), 0 1px 3px 1px rgba(60, 64, 67, 0.15);\n",
              "    fill: var(--button-hover-fill-color);\n",
              "  }\n",
              "\n",
              "  .colab-df-quickchart-complete:disabled,\n",
              "  .colab-df-quickchart-complete:disabled:hover {\n",
              "    background-color: var(--disabled-bg-color);\n",
              "    fill: var(--disabled-fill-color);\n",
              "    box-shadow: none;\n",
              "  }\n",
              "\n",
              "  .colab-df-spinner {\n",
              "    border: 2px solid var(--fill-color);\n",
              "    border-color: transparent;\n",
              "    border-bottom-color: var(--fill-color);\n",
              "    animation:\n",
              "      spin 1s steps(1) infinite;\n",
              "  }\n",
              "\n",
              "  @keyframes spin {\n",
              "    0% {\n",
              "      border-color: transparent;\n",
              "      border-bottom-color: var(--fill-color);\n",
              "      border-left-color: var(--fill-color);\n",
              "    }\n",
              "    20% {\n",
              "      border-color: transparent;\n",
              "      border-left-color: var(--fill-color);\n",
              "      border-top-color: var(--fill-color);\n",
              "    }\n",
              "    30% {\n",
              "      border-color: transparent;\n",
              "      border-left-color: var(--fill-color);\n",
              "      border-top-color: var(--fill-color);\n",
              "      border-right-color: var(--fill-color);\n",
              "    }\n",
              "    40% {\n",
              "      border-color: transparent;\n",
              "      border-right-color: var(--fill-color);\n",
              "      border-top-color: var(--fill-color);\n",
              "    }\n",
              "    60% {\n",
              "      border-color: transparent;\n",
              "      border-right-color: var(--fill-color);\n",
              "    }\n",
              "    80% {\n",
              "      border-color: transparent;\n",
              "      border-right-color: var(--fill-color);\n",
              "      border-bottom-color: var(--fill-color);\n",
              "    }\n",
              "    90% {\n",
              "      border-color: transparent;\n",
              "      border-bottom-color: var(--fill-color);\n",
              "    }\n",
              "  }\n",
              "</style>\n",
              "\n",
              "  <script>\n",
              "    async function quickchart(key) {\n",
              "      const quickchartButtonEl =\n",
              "        document.querySelector('#' + key + ' button');\n",
              "      quickchartButtonEl.disabled = true;  // To prevent multiple clicks.\n",
              "      quickchartButtonEl.classList.add('colab-df-spinner');\n",
              "      try {\n",
              "        const charts = await google.colab.kernel.invokeFunction(\n",
              "            'suggestCharts', [key], {});\n",
              "      } catch (error) {\n",
              "        console.error('Error during call to suggestCharts:', error);\n",
              "      }\n",
              "      quickchartButtonEl.classList.remove('colab-df-spinner');\n",
              "      quickchartButtonEl.classList.add('colab-df-quickchart-complete');\n",
              "    }\n",
              "    (() => {\n",
              "      let quickchartButtonEl =\n",
              "        document.querySelector('#df-2928425d-b278-4b97-863f-468c096d81e8 button');\n",
              "      quickchartButtonEl.style.display =\n",
              "        google.colab.kernel.accessAllowed ? 'block' : 'none';\n",
              "    })();\n",
              "  </script>\n",
              "</div>\n",
              "\n",
              "    </div>\n",
              "  </div>\n"
            ],
            "application/vnd.google.colaboratory.intrinsic+json": {
              "type": "dataframe",
              "summary": "{\n  \"name\": \"df1\",\n  \"rows\": 5,\n  \"fields\": [\n    {\n      \"column\": \"count\",\n      \"properties\": {\n        \"dtype\": \"number\",\n        \"std\": 0.0,\n        \"min\": 22865.0,\n        \"max\": 22865.0,\n        \"num_unique_values\": 1,\n        \"samples\": [\n          22865.0\n        ],\n        \"semantic_type\": \"\",\n        \"description\": \"\"\n      }\n    },\n    {\n      \"column\": \"mean\",\n      \"properties\": {\n        \"dtype\": \"number\",\n        \"std\": 845.3855914714768,\n        \"min\": 23.809651165503826,\n        \"max\": 2013.4837087251258,\n        \"num_unique_values\": 5,\n        \"samples\": [\n          37.67590177648582\n        ],\n        \"semantic_type\": \"\",\n        \"description\": \"\"\n      }\n    },\n    {\n      \"column\": \"std\",\n      \"properties\": {\n        \"dtype\": \"number\",\n        \"std\": 828.5933136669396,\n        \"min\": 5.19374531946803,\n        \"max\": 1964.2941463956602,\n        \"num_unique_values\": 5,\n        \"samples\": [\n          218.24701976811775\n        ],\n        \"semantic_type\": \"\",\n        \"description\": \"\"\n      }\n    },\n    {\n      \"column\": \"min\",\n      \"properties\": {\n        \"dtype\": \"number\",\n        \"std\": 949.4423534732593,\n        \"min\": -447.1231173,\n        \"max\": 2005.0,\n        \"num_unique_values\": 5,\n        \"samples\": [\n          -447.1231173\n        ],\n        \"semantic_type\": \"\",\n        \"description\": \"\"\n      }\n    },\n    {\n      \"column\": \"25%\",\n      \"properties\": {\n        \"dtype\": \"number\",\n        \"std\": 852.4428997445075,\n        \"min\": 0.0,\n        \"max\": 2009.0,\n        \"num_unique_values\": 5,\n        \"samples\": [\n          0.0944\n        ],\n        \"semantic_type\": \"\",\n        \"description\": \"\"\n      }\n    },\n    {\n      \"column\": \"50%\",\n      \"properties\": {\n        \"dtype\": \"number\",\n        \"std\": 842.2639208112939,\n        \"min\": 0.0,\n        \"max\": 2013.0,\n        \"num_unique_values\": 5,\n        \"samples\": [\n          1.275001346\n        ],\n        \"semantic_type\": \"\",\n        \"description\": \"\"\n      }\n    },\n    {\n      \"column\": \"75%\",\n      \"properties\": {\n        \"dtype\": \"number\",\n        \"std\": 824.8119386076436,\n        \"min\": 0.0,\n        \"max\": 2018.0,\n        \"num_unique_values\": 5,\n        \"samples\": [\n          12.16754539\n        ],\n        \"semantic_type\": \"\",\n        \"description\": \"\"\n      }\n    },\n    {\n      \"column\": \"max\",\n      \"properties\": {\n        \"dtype\": \"number\",\n        \"std\": 4174.588560936661,\n        \"min\": 822.483,\n        \"max\": 9574.527472,\n        \"num_unique_values\": 5,\n        \"samples\": [\n          9574.527472\n        ],\n        \"semantic_type\": \"\",\n        \"description\": \"\"\n      }\n    }\n  ]\n}"
            }
          },
          "metadata": {},
          "execution_count": 48
        }
      ]
    },
    {
      "cell_type": "code",
      "source": [
        "# Data Understanding\n",
        "print(df1.info())\n"
      ],
      "metadata": {
        "colab": {
          "base_uri": "https://localhost:8080/"
        },
        "id": "Ll1VRxxsy4Fm",
        "outputId": "cf4ff3aa-bcee-45fd-c008-947021beb723"
      },
      "execution_count": 49,
      "outputs": [
        {
          "output_type": "stream",
          "name": "stdout",
          "text": [
            "<class 'pandas.core.frame.DataFrame'>\n",
            "DatetimeIndex: 22865 entries, 2005-01-01 to 2022-01-01\n",
            "Data columns (total 9 columns):\n",
            " #   Column                                                       Non-Null Count  Dtype  \n",
            "---  ------                                                       --------------  -----  \n",
            " 0   Region                                                       22865 non-null  object \n",
            " 1   Local Authority                                              22865 non-null  object \n",
            " 2   Calendar Year                                                22865 non-null  int64  \n",
            " 3   LA GHG Sector                                                22865 non-null  object \n",
            " 4   LA GHG Sub-sector                                            22865 non-null  object \n",
            " 5   Territorial emissions (kt CO2e)                              22865 non-null  float64\n",
            " 6   CO2 emissions within the scope of influence of LAs (kt CO2)  22865 non-null  float64\n",
            " 7   Mid-year Population (thousands)                              22865 non-null  float64\n",
            " 8   Area (km2)                                                   22865 non-null  float64\n",
            "dtypes: float64(4), int64(1), object(4)\n",
            "memory usage: 1.7+ MB\n",
            "None\n"
          ]
        }
      ]
    },
    {
      "cell_type": "code",
      "source": [
        "df1 = df1[df1[\"CO2 emissions within the scope of influence of LAs (kt CO2)\"] != 0]\n"
      ],
      "metadata": {
        "id": "QAR8N33FMkCD"
      },
      "execution_count": 50,
      "outputs": []
    },
    {
      "cell_type": "code",
      "source": [
        "print(df1.head())\n"
      ],
      "metadata": {
        "colab": {
          "base_uri": "https://localhost:8080/"
        },
        "id": "La2eprPpDYbD",
        "outputId": "df9b930f-81f4-429b-aa5e-5f26435f3492"
      },
      "execution_count": 51,
      "outputs": [
        {
          "output_type": "stream",
          "name": "stdout",
          "text": [
            "                              Region              Local Authority  \\\n",
            "timestamp                                                           \n",
            "2005-01-01  Yorkshire and the Humber  Kingston upon Hull, City of   \n",
            "2005-01-01  Yorkshire and the Humber  Kingston upon Hull, City of   \n",
            "2005-01-01  Yorkshire and the Humber  Kingston upon Hull, City of   \n",
            "2005-01-01  Yorkshire and the Humber  Kingston upon Hull, City of   \n",
            "2005-01-01  Yorkshire and the Humber  Kingston upon Hull, City of   \n",
            "\n",
            "            Calendar Year LA GHG Sector        LA GHG Sub-sector  \\\n",
            "timestamp                                                          \n",
            "2005-01-01           2005   Agriculture  Agriculture Electricity   \n",
            "2005-01-01           2005   Agriculture          Agriculture Gas   \n",
            "2005-01-01           2005   Agriculture      Agriculture 'Other'   \n",
            "2005-01-01           2005    Commercial   Commercial Electricity   \n",
            "2005-01-01           2005    Commercial           Commercial Gas   \n",
            "\n",
            "            Territorial emissions (kt CO2e)  \\\n",
            "timestamp                                     \n",
            "2005-01-01                         0.272135   \n",
            "2005-01-01                         0.245342   \n",
            "2005-01-01                         0.362551   \n",
            "2005-01-01                       280.453103   \n",
            "2005-01-01                        41.992481   \n",
            "\n",
            "            CO2 emissions within the scope of influence of LAs (kt CO2)  \\\n",
            "timestamp                                                                 \n",
            "2005-01-01                                           0.272135             \n",
            "2005-01-01                                           0.245342             \n",
            "2005-01-01                                           0.362551             \n",
            "2005-01-01                                         280.453103             \n",
            "2005-01-01                                          41.992481             \n",
            "\n",
            "            Mid-year Population (thousands)  Area (km2)  \n",
            "timestamp                                                \n",
            "2005-01-01                          255.159     81.4974  \n",
            "2005-01-01                          255.159     81.4974  \n",
            "2005-01-01                          255.159     81.4974  \n",
            "2005-01-01                          255.159     81.4974  \n",
            "2005-01-01                          255.159     81.4974  \n"
          ]
        }
      ]
    },
    {
      "cell_type": "code",
      "source": [
        "print(\"There are\", df1.shape[0], 'rows and', df1.shape[1], \"columns.\")"
      ],
      "metadata": {
        "colab": {
          "base_uri": "https://localhost:8080/"
        },
        "id": "XGYpaIX8yQO7",
        "outputId": "0fe72590-e9e9-48af-9c6d-4325f4433bd6"
      },
      "execution_count": 52,
      "outputs": [
        {
          "output_type": "stream",
          "name": "stdout",
          "text": [
            "There are 5167 rows and 9 columns.\n"
          ]
        }
      ]
    },
    {
      "cell_type": "code",
      "source": [
        "print(df1.describe())\n"
      ],
      "metadata": {
        "colab": {
          "base_uri": "https://localhost:8080/"
        },
        "id": "DWgJDRsVDac7",
        "outputId": "b7afae2c-8a72-4c0c-d37e-c6237431b0e3"
      },
      "execution_count": 53,
      "outputs": [
        {
          "output_type": "stream",
          "name": "stdout",
          "text": [
            "       Calendar Year  Territorial emissions (kt CO2e)  \\\n",
            "count    5167.000000                      5167.000000   \n",
            "mean     2013.484807                       122.458552   \n",
            "std         5.188147                       380.495298   \n",
            "min      2005.000000                         0.046888   \n",
            "25%      2009.000000                         8.656089   \n",
            "50%      2013.000000                        43.025330   \n",
            "75%      2018.000000                       149.931305   \n",
            "max      2022.000000                      9574.527472   \n",
            "\n",
            "       CO2 emissions within the scope of influence of LAs (kt CO2)  \\\n",
            "count                                        5167.000000             \n",
            "mean                                          105.362430             \n",
            "std                                           147.551516             \n",
            "min                                             0.004890             \n",
            "25%                                             8.501706             \n",
            "50%                                            40.296875             \n",
            "75%                                           147.648766             \n",
            "max                                          1055.481287             \n",
            "\n",
            "       Mid-year Population (thousands)   Area (km2)  \n",
            "count                      5167.000000  5167.000000  \n",
            "mean                        355.644384  1044.975700  \n",
            "std                         176.915925  1967.937019  \n",
            "min                         157.197000    81.497400  \n",
            "25%                         207.699000   286.534300  \n",
            "50%                         302.544487   366.419800  \n",
            "75%                         512.392000   568.551300  \n",
            "max                         822.483000  8052.192800  \n"
          ]
        }
      ]
    },
    {
      "cell_type": "code",
      "source": [
        "print(df1['CO2 emissions within the scope of influence of LAs (kt CO2)'].value_counts())\n"
      ],
      "metadata": {
        "colab": {
          "base_uri": "https://localhost:8080/"
        },
        "id": "0KUP-KqADeIm",
        "outputId": "f0eb7c0c-5e1c-40e3-e032-3a8df735bf3b"
      },
      "execution_count": 54,
      "outputs": [
        {
          "output_type": "stream",
          "name": "stdout",
          "text": [
            "CO2 emissions within the scope of influence of LAs (kt CO2)\n",
            "0.344328      1\n",
            "0.272135      1\n",
            "0.245342      1\n",
            "0.362551      1\n",
            "280.453103    1\n",
            "             ..\n",
            "0.277364      1\n",
            "0.298125      1\n",
            "12.954660     1\n",
            "253.917394    1\n",
            "143.935858    1\n",
            "Name: count, Length: 5167, dtype: int64\n"
          ]
        }
      ]
    },
    {
      "cell_type": "code",
      "source": [
        "print(df1.isnull().sum())\n",
        "print(f\"Number of duplicate rows: {df1.duplicated().sum()}\")"
      ],
      "metadata": {
        "colab": {
          "base_uri": "https://localhost:8080/"
        },
        "id": "HNQasjpsDgjp",
        "outputId": "d79c429b-0863-4be2-e7c2-3df18480248b"
      },
      "execution_count": 55,
      "outputs": [
        {
          "output_type": "stream",
          "name": "stdout",
          "text": [
            "Region                                                         0\n",
            "Local Authority                                                0\n",
            "Calendar Year                                                  0\n",
            "LA GHG Sector                                                  0\n",
            "LA GHG Sub-sector                                              0\n",
            "Territorial emissions (kt CO2e)                                0\n",
            "CO2 emissions within the scope of influence of LAs (kt CO2)    0\n",
            "Mid-year Population (thousands)                                0\n",
            "Area (km2)                                                     0\n",
            "dtype: int64\n",
            "Number of duplicate rows: 0\n"
          ]
        }
      ]
    },
    {
      "cell_type": "code",
      "source": [
        "# Identifying duplicate rows in the dataset\n",
        "duplicate_rows = df1.duplicated().sum()\n",
        "print(f\"Number of duplicate rows: {duplicate_rows}\")\n"
      ],
      "metadata": {
        "colab": {
          "base_uri": "https://localhost:8080/"
        },
        "id": "3o4BcSbBzjsP",
        "outputId": "38dd55bc-ccb5-47ee-d3b3-35a37dae3de8"
      },
      "execution_count": 56,
      "outputs": [
        {
          "output_type": "stream",
          "name": "stdout",
          "text": [
            "Number of duplicate rows: 0\n"
          ]
        }
      ]
    },
    {
      "cell_type": "code",
      "source": [
        "# Identify columns with more than 50% missing values\n",
        "missing_threshold = 0.5 * len(df1)\n",
        "columns_to_drop = [col for col in df1.columns if df1[col].isnull().sum() > missing_threshold]\n"
      ],
      "metadata": {
        "id": "s8vmyGriz6hn"
      },
      "execution_count": 57,
      "outputs": []
    },
    {
      "cell_type": "code",
      "source": [
        "# Drop columns with excessive missing values\n",
        "df1.drop(columns=columns_to_drop, inplace=True)\n"
      ],
      "metadata": {
        "id": "gNEme_7E0N1t"
      },
      "execution_count": 58,
      "outputs": []
    },
    {
      "cell_type": "code",
      "source": [
        "# Fill remaining missing values with median\n",
        "df1.fillna(df.median(numeric_only=True), inplace=True)\n"
      ],
      "metadata": {
        "id": "H438QL040RWy"
      },
      "execution_count": 59,
      "outputs": []
    },
    {
      "cell_type": "code",
      "source": [
        "# Verify that missing values are removed\n",
        "missing_values_final = df1.isnull().sum()\n",
        "missing_values_final = missing_values_final[missing_values_final > 0]\n"
      ],
      "metadata": {
        "id": "mgTriSXd0UNx"
      },
      "execution_count": 60,
      "outputs": []
    },
    {
      "cell_type": "code",
      "source": [
        "if missing_values_final.empty:\n",
        "    print(\"\\n All missing values have been handled successfully!\")\n",
        "else:\n",
        "    print(\"\\n Some missing values still remain:\")\n",
        "    print(missing_values_final)\n"
      ],
      "metadata": {
        "colab": {
          "base_uri": "https://localhost:8080/"
        },
        "id": "6jK4cbai0Yf-",
        "outputId": "77010b90-bb10-4b20-bb34-16eb44f1891e"
      },
      "execution_count": 61,
      "outputs": [
        {
          "output_type": "stream",
          "name": "stdout",
          "text": [
            "\n",
            " All missing values have been handled successfully!\n"
          ]
        }
      ]
    },
    {
      "cell_type": "code",
      "source": [
        "df1.shape"
      ],
      "metadata": {
        "colab": {
          "base_uri": "https://localhost:8080/"
        },
        "id": "wCAAD9o10biJ",
        "outputId": "e8c5c41d-2a08-4477-d0c2-ea662e3f7403"
      },
      "execution_count": 62,
      "outputs": [
        {
          "output_type": "execute_result",
          "data": {
            "text/plain": [
              "(5167, 9)"
            ]
          },
          "metadata": {},
          "execution_count": 62
        }
      ]
    },
    {
      "cell_type": "code",
      "source": [
        "plt.figure(figsize=(10, 5))\n",
        "sns.countplot(x=\"LA GHG Sector\", data=df1)\n",
        "plt.title(\"LA GHG Sector Distribution\")\n",
        "plt.show()\n"
      ],
      "metadata": {
        "colab": {
          "base_uri": "https://localhost:8080/",
          "height": 487
        },
        "id": "qoUcxy170gNV",
        "outputId": "2474cbf3-7643-4a8a-8b45-ff0385805bd6"
      },
      "execution_count": 63,
      "outputs": [
        {
          "output_type": "display_data",
          "data": {
            "text/plain": [
              "<Figure size 1000x500 with 1 Axes>"
            ],
            "image/png": "[encoded data removed]"
          },
          "metadata": {}
        }
      ]
    },
    {
      "cell_type": "code",
      "source": [
        "plt.figure(figsize=(10, 5))\n",
        "sns.countplot(x=\"Local Authority\", data=df1)\n",
        "plt.title(\"Local Authority Distribution\")\n",
        "plt.show()\n"
      ],
      "metadata": {
        "colab": {
          "base_uri": "https://localhost:8080/",
          "height": 487
        },
        "id": "MRX76m1g7onM",
        "outputId": "0c9434d5-af0a-45aa-ae65-483d967b59da"
      },
      "execution_count": 64,
      "outputs": [
        {
          "output_type": "display_data",
          "data": {
            "text/plain": [
              "<Figure size 1000x500 with 1 Axes>"
            ],
            "image/png": "[encoded data removed]"
          },
          "metadata": {}
        }
      ]
    },
    {
      "cell_type": "code",
      "source": [
        "# Clean and set index\n",
        "df1.columns = df1.columns.str.strip()\n",
        "df1['timestamp'] = pd.to_datetime(df1['Calendar Year'], format='%Y')\n",
        "df1.set_index('timestamp', inplace=True)\n",
        "\n",
        "# Add numeric year column\n",
        "df1['year'] = df1.index.year\n",
        "\n",
        "# Split: train = before 2021, test = 2021–2022\n",
        "train = df1[df1['year'] < 2021]\n",
        "test = df1[df1['year'] >= 2021]\n"
      ],
      "metadata": {
        "id": "cmY1bZee9LVL"
      },
      "execution_count": 65,
      "outputs": []
    },
    {
      "cell_type": "code",
      "source": [
        "from sklearn.preprocessing import MinMaxScaler\n",
        "\n",
        "scaler = MinMaxScaler()\n",
        "train_scaled = scaler.fit_transform(train[['CO2 emissions within the scope of influence of LAs (kt CO2)']])\n",
        "test_scaled = scaler.transform(test[['CO2 emissions within the scope of influence of LAs (kt CO2)']])\n"
      ],
      "metadata": {
        "id": "8nBhHf1_-Bxq"
      },
      "execution_count": 66,
      "outputs": []
    },
    {
      "cell_type": "code",
      "source": [
        "import numpy as np\n",
        "\n",
        "window_size = 5\n",
        "\n",
        "def create_sequences(data, window_size):\n",
        "    X, y = [], []\n",
        "    for i in range(len(data) - window_size):\n",
        "        X.append(data[i:i+window_size])\n",
        "        y.append(data[i+window_size])\n",
        "    return np.array(X), np.array(y)\n",
        "\n",
        "X_train, y_train = create_sequences(train_scaled, window_size)\n"
      ],
      "metadata": {
        "id": "fkkmOaaC-Fp2"
      },
      "execution_count": 67,
      "outputs": []
    },
    {
      "cell_type": "code",
      "source": [
        "from tensorflow.keras.models import Sequential\n",
        "from tensorflow.keras.layers import LSTM, Dense, Dropout\n",
        "from tensorflow.keras.callbacks import EarlyStopping\n",
        "\n",
        "# Define model\n",
        "model = Sequential()\n",
        "model.add(LSTM(64, return_sequences=True, input_shape=(X_train.shape[1], X_train.shape[2])))\n",
        "model.add(Dropout(0.2))\n",
        "model.add(LSTM(64))\n",
        "model.add(Dense(1))\n",
        "\n",
        "model.compile(optimizer='adam', loss='mse')\n",
        "\n",
        "# Define early stopping\n",
        "early_stop = EarlyStopping(\n",
        "    monitor='val_loss',\n",
        "    patience=5,\n",
        "    restore_best_weights=True\n",
        ")\n",
        "\n",
        "# Fit the model\n",
        "model.fit(X_train, y_train, epochs=5, batch_size=32,\n",
        "          validation_split=0.2,\n",
        "          callbacks=[early_stop], verbose=1)\n"
      ],
      "metadata": {
        "colab": {
          "base_uri": "https://localhost:8080/"
        },
        "id": "BE2aHiMD-IBe",
        "outputId": "2b10f9a7-d471-404c-fd07-d45b1189cf36"
      },
      "execution_count": 68,
      "outputs": [
        {
          "output_type": "stream",
          "name": "stdout",
          "text": [
            "Epoch 1/5\n",
            "\u001b[1m115/115\u001b[0m \u001b[32m━━━━━━━━━━━━━━━━━━━━\u001b[0m\u001b[37m\u001b[0m \u001b[1m7s\u001b[0m 17ms/step - loss: 0.0190 - val_loss: 0.0326\n",
            "Epoch 2/5\n",
            "\u001b[1m115/115\u001b[0m \u001b[32m━━━━━━━━━━━━━━━━━━━━\u001b[0m\u001b[37m\u001b[0m \u001b[1m2s\u001b[0m 14ms/step - loss: 0.0164 - val_loss: 0.0328\n",
            "Epoch 3/5\n",
            "\u001b[1m115/115\u001b[0m \u001b[32m━━━━━━━━━━━━━━━━━━━━\u001b[0m\u001b[37m\u001b[0m \u001b[1m1s\u001b[0m 8ms/step - loss: 0.0166 - val_loss: 0.0342\n",
            "Epoch 4/5\n",
            "\u001b[1m115/115\u001b[0m \u001b[32m━━━━━━━━━━━━━━━━━━━━\u001b[0m\u001b[37m\u001b[0m \u001b[1m1s\u001b[0m 9ms/step - loss: 0.0161 - val_loss: 0.0311\n",
            "Epoch 5/5\n",
            "\u001b[1m115/115\u001b[0m \u001b[32m━━━━━━━━━━━━━━━━━━━━\u001b[0m\u001b[37m\u001b[0m \u001b[1m1s\u001b[0m 9ms/step - loss: 0.0147 - val_loss: 0.0291\n"
          ]
        },
        {
          "output_type": "execute_result",
          "data": {
            "text/plain": [
              "<keras.src.callbacks.history.History at 0x7cf0eb47e250>"
            ]
          },
          "metadata": {},
          "execution_count": 68
        }
      ]
    },
    {
      "cell_type": "code",
      "source": [
        "forecast_input = list(test_scaled[:window_size])\n",
        "test_preds = []\n",
        "\n",
        "for _ in range(2):  # Forecast only 2 years\n",
        "    input_seq = np.array(forecast_input[-window_size:]).reshape(1, window_size, 1)\n",
        "    pred = model.predict(input_seq, verbose=0)\n",
        "    test_preds.append(pred[0][0])\n",
        "    forecast_input.append([pred[0][0]])  # Keep same shape\n"
      ],
      "metadata": {
        "id": "MJyq_c5q-KlD"
      },
      "execution_count": 69,
      "outputs": []
    },
    {
      "cell_type": "code",
      "source": [
        "from sklearn.metrics import mean_squared_error, mean_absolute_error, r2_score\n",
        "\n",
        "# Inverse scale\n",
        "y_pred_test = scaler.inverse_transform(np.array(test_preds).reshape(-1, 1))\n",
        "# Use only the last 2 rows of test set (2021–2022)\n",
        "y_true_test = test[['CO2 emissions within the scope of influence of LAs (kt CO2)']].iloc[:2].values\n",
        "\n",
        "\n",
        "# Metrics\n",
        "mse = mean_squared_error(y_true_test, y_pred_test)\n",
        "mae = mean_absolute_error(y_true_test, y_pred_test)\n",
        "r2 = r2_score(y_true_test, y_pred_test)\n",
        "\n",
        "print(\" LSTM Evaluation on 2021–2022 Forecast:\")\n",
        "print(f\"• MSE  = {mse:.2f}\")\n",
        "print(f\"• MAE  = {mae:.2f}\")\n",
        "print(f\"• R²   = {r2:.4f}\")\n"
      ],
      "metadata": {
        "colab": {
          "base_uri": "https://localhost:8080/"
        },
        "id": "tN30dJKf-OJu",
        "outputId": "7310ca82-1588-494c-b37a-4a04a8447e82"
      },
      "execution_count": 70,
      "outputs": [
        {
          "output_type": "stream",
          "name": "stdout",
          "text": [
            " LSTM Evaluation on 2021–2022 Forecast:\n",
            "• MSE  = 9092.70\n",
            "• MAE  = 94.80\n",
            "• R²   = -8802543.2729\n"
          ]
        }
      ]
    },
    {
      "cell_type": "code",
      "source": [
        "# Step 1: Start forecast input from 2022 (end of test)\n",
        "forecast_input = list(train_scaled[-window_size:])  # last 5 values before 2021\n",
        "forecast_input.append([test_preds[0]])  # 2021\n",
        "forecast_input.append([test_preds[1]])  # 2022\n",
        "\n",
        "# Step 2: Forecast 28 future years: 2023–2050\n",
        "future_preds = []\n",
        "for _ in range(28):\n",
        "    input_seq = np.array(forecast_input[-window_size:]).reshape(1, window_size, 1)\n",
        "    pred = model.predict(input_seq, verbose=0)\n",
        "    future_preds.append(pred[0][0])\n",
        "    forecast_input.append([pred[0][0]])  # keep growing the window\n"
      ],
      "metadata": {
        "id": "MTKWrhQAnjBF"
      },
      "execution_count": 71,
      "outputs": []
    },
    {
      "cell_type": "code",
      "source": [
        "# Step 3: Inverse transform\n",
        "forecast_emissions = scaler.inverse_transform(np.array(future_preds).reshape(-1, 1))\n",
        "\n",
        "# Step 4: Create forecast DataFrame\n",
        "forecast_years = np.arange(2023, 2051)\n",
        "forecast_df = pd.DataFrame({\n",
        "    'Year': forecast_years,\n",
        "    'Forecasted Emissions (kt CO2e)': forecast_emissions.flatten()\n",
        "})\n",
        "forecast_df.set_index('Year', inplace=True)\n",
        "forecast_df.tail()  # see the last few values\n"
      ],
      "metadata": {
        "colab": {
          "base_uri": "https://localhost:8080/",
          "height": 238
        },
        "id": "ezFCRMbhpAe0",
        "outputId": "3c5bb5a7-5c07-4232-8707-f5b05267a4f7"
      },
      "execution_count": 72,
      "outputs": [
        {
          "output_type": "execute_result",
          "data": {
            "text/plain": [
              "      Forecasted Emissions (kt CO2e)\n",
              "Year                                \n",
              "2046                      107.178383\n",
              "2047                      107.178352\n",
              "2048                      107.178459\n",
              "2049                      107.178436\n",
              "2050                      107.178436"
            ],
            "text/html": [
              "\n",
              "  <div id=\"df-0e9d0bcf-ada4-4897-99cf-00cd96b7f2c8\" class=\"colab-df-container\">\n",
              "    <div>\n",
              "<style scoped>\n",
              "    .dataframe tbody tr th:only-of-type {\n",
              "        vertical-align: middle;\n",
              "    }\n",
              "\n",
              "    .dataframe tbody tr th {\n",
              "        vertical-align: top;\n",
              "    }\n",
              "\n",
              "    .dataframe thead th {\n",
              "        text-align: right;\n",
              "    }\n",
              "</style>\n",
              "<table border=\"1\" class=\"dataframe\">\n",
              "  <thead>\n",
              "    <tr style=\"text-align: right;\">\n",
              "      <th></th>\n",
              "      <th>Forecasted Emissions (kt CO2e)</th>\n",
              "    </tr>\n",
              "    <tr>\n",
              "      <th>Year</th>\n",
              "      <th></th>\n",
              "    </tr>\n",
              "  </thead>\n",
              "  <tbody>\n",
              "    <tr>\n",
              "      <th>2046</th>\n",
              "      <td>107.178383</td>\n",
              "    </tr>\n",
              "    <tr>\n",
              "      <th>2047</th>\n",
              "      <td>107.178352</td>\n",
              "    </tr>\n",
              "    <tr>\n",
              "      <th>2048</th>\n",
              "      <td>107.178459</td>\n",
              "    </tr>\n",
              "    <tr>\n",
              "      <th>2049</th>\n",
              "      <td>107.178436</td>\n",
              "    </tr>\n",
              "    <tr>\n",
              "      <th>2050</th>\n",
              "      <td>107.178436</td>\n",
              "    </tr>\n",
              "  </tbody>\n",
              "</table>\n",
              "</div>\n",
              "    <div class=\"colab-df-buttons\">\n",
              "\n",
              "  <div class=\"colab-df-container\">\n",
              "    <button class=\"colab-df-convert\" onclick=\"convertToInteractive('df-0e9d0bcf-ada4-4897-99cf-00cd96b7f2c8')\"\n",
              "            title=\"Convert this dataframe to an interactive table.\"\n",
              "            style=\"display:none;\">\n",
              "\n",
              "  <svg xmlns=\"http://www.w3.org/2000/svg\" height=\"24px\" viewBox=\"0 -960 960 960\">\n",
              "    <path d=\"M120-120v-720h720v720H120Zm60-500h600v-160H180v160Zm220 220h160v-160H400v160Zm0 220h160v-160H400v160ZM180-400h160v-160H180v160Zm440 0h160v-160H620v160ZM180-180h160v-160H180v160Zm440 0h160v-160H620v160Z\"/>\n",
              "  </svg>\n",
              "    </button>\n",
              "\n",
              "  <style>\n",
              "    .colab-df-container {\n",
              "      display:flex;\n",
              "      gap: 12px;\n",
              "    }\n",
              "\n",
              "    .colab-df-convert {\n",
              "      background-color: #E8F0FE;\n",
              "      border: none;\n",
              "      border-radius: 50%;\n",
              "      cursor: pointer;\n",
              "      display: none;\n",
              "      fill: #1967D2;\n",
              "      height: 32px;\n",
              "      padding: 0 0 0 0;\n",
              "      width: 32px;\n",
              "    }\n",
              "\n",
              "    .colab-df-convert:hover {\n",
              "      background-color: #E2EBFA;\n",
              "      box-shadow: 0px 1px 2px rgba(60, 64, 67, 0.3), 0px 1px 3px 1px rgba(60, 64, 67, 0.15);\n",
              "      fill: #174EA6;\n",
              "    }\n",
              "\n",
              "    .colab-df-buttons div {\n",
              "      margin-bottom: 4px;\n",
              "    }\n",
              "\n",
              "    [theme=dark] .colab-df-convert {\n",
              "      background-color: #3B4455;\n",
              "      fill: #D2E3FC;\n",
              "    }\n",
              "\n",
              "    [theme=dark] .colab-df-convert:hover {\n",
              "      background-color: #434B5C;\n",
              "      box-shadow: 0px 1px 3px 1px rgba(0, 0, 0, 0.15);\n",
              "      filter: drop-shadow(0px 1px 2px rgba(0, 0, 0, 0.3));\n",
              "      fill: #FFFFFF;\n",
              "    }\n",
              "  </style>\n",
              "\n",
              "    <script>\n",
              "      const buttonEl =\n",
              "        document.querySelector('#df-0e9d0bcf-ada4-4897-99cf-00cd96b7f2c8 button.colab-df-convert');\n",
              "      buttonEl.style.display =\n",
              "        google.colab.kernel.accessAllowed ? 'block' : 'none';\n",
              "\n",
              "      async function convertToInteractive(key) {\n",
              "        const element = document.querySelector('#df-0e9d0bcf-ada4-4897-99cf-00cd96b7f2c8');\n",
              "        const dataTable =\n",
              "          await google.colab.kernel.invokeFunction('convertToInteractive',\n",
              "                                                    [key], {});\n",
              "        if (!dataTable) return;\n",
              "\n",
              "        const docLinkHtml = 'Like what you see? Visit the ' +\n",
              "          '<a target=\"_blank\" href=https://colab.research.google.com/notebooks/data_table.ipynb>data table notebook</a>'\n",
              "          + ' to learn more about interactive tables.';\n",
              "        element.innerHTML = '';\n",
              "        dataTable['output_type'] = 'display_data';\n",
              "        await google.colab.output.renderOutput(dataTable, element);\n",
              "        const docLink = document.createElement('div');\n",
              "        docLink.innerHTML = docLinkHtml;\n",
              "        element.appendChild(docLink);\n",
              "      }\n",
              "    </script>\n",
              "  </div>\n",
              "\n",
              "\n",
              "<div id=\"df-fd93677f-9b68-4650-9a9d-1fcb47930a51\">\n",
              "  <button class=\"colab-df-quickchart\" onclick=\"quickchart('df-fd93677f-9b68-4650-9a9d-1fcb47930a51')\"\n",
              "            title=\"Suggest charts\"\n",
              "            style=\"display:none;\">\n",
              "\n",
              "<svg xmlns=\"http://www.w3.org/2000/svg\" height=\"24px\"viewBox=\"0 0 24 24\"\n",
              "     width=\"24px\">\n",
              "    <g>\n",
              "        <path d=\"M19 3H5c-1.1 0-2 .9-2 2v14c0 1.1.9 2 2 2h14c1.1 0 2-.9 2-2V5c0-1.1-.9-2-2-2zM9 17H7v-7h2v7zm4 0h-2V7h2v10zm4 0h-2v-4h2v4z\"/>\n",
              "    </g>\n",
              "</svg>\n",
              "  </button>\n",
              "\n",
              "<style>\n",
              "  .colab-df-quickchart {\n",
              "      --bg-color: #E8F0FE;\n",
              "      --fill-color: #1967D2;\n",
              "      --hover-bg-color: #E2EBFA;\n",
              "      --hover-fill-color: #174EA6;\n",
              "      --disabled-fill-color: #AAA;\n",
              "      --disabled-bg-color: #DDD;\n",
              "  }\n",
              "\n",
              "  [theme=dark] .colab-df-quickchart {\n",
              "      --bg-color: #3B4455;\n",
              "      --fill-color: #D2E3FC;\n",
              "      --hover-bg-color: #434B5C;\n",
              "      --hover-fill-color: #FFFFFF;\n",
              "      --disabled-bg-color: #3B4455;\n",
              "      --disabled-fill-color: #666;\n",
              "  }\n",
              "\n",
              "  .colab-df-quickchart {\n",
              "    background-color: var(--bg-color);\n",
              "    border: none;\n",
              "    border-radius: 50%;\n",
              "    cursor: pointer;\n",
              "    display: none;\n",
              "    fill: var(--fill-color);\n",
              "    height: 32px;\n",
              "    padding: 0;\n",
              "    width: 32px;\n",
              "  }\n",
              "\n",
              "  .colab-df-quickchart:hover {\n",
              "    background-color: var(--hover-bg-color);\n",
              "    box-shadow: 0 1px 2px rgba(60, 64, 67, 0.3), 0 1px 3px 1px rgba(60, 64, 67, 0.15);\n",
              "    fill: var(--button-hover-fill-color);\n",
              "  }\n",
              "\n",
              "  .colab-df-quickchart-complete:disabled,\n",
              "  .colab-df-quickchart-complete:disabled:hover {\n",
              "    background-color: var(--disabled-bg-color);\n",
              "    fill: var(--disabled-fill-color);\n",
              "    box-shadow: none;\n",
              "  }\n",
              "\n",
              "  .colab-df-spinner {\n",
              "    border: 2px solid var(--fill-color);\n",
              "    border-color: transparent;\n",
              "    border-bottom-color: var(--fill-color);\n",
              "    animation:\n",
              "      spin 1s steps(1) infinite;\n",
              "  }\n",
              "\n",
              "  @keyframes spin {\n",
              "    0% {\n",
              "      border-color: transparent;\n",
              "      border-bottom-color: var(--fill-color);\n",
              "      border-left-color: var(--fill-color);\n",
              "    }\n",
              "    20% {\n",
              "      border-color: transparent;\n",
              "      border-left-color: var(--fill-color);\n",
              "      border-top-color: var(--fill-color);\n",
              "    }\n",
              "    30% {\n",
              "      border-color: transparent;\n",
              "      border-left-color: var(--fill-color);\n",
              "      border-top-color: var(--fill-color);\n",
              "      border-right-color: var(--fill-color);\n",
              "    }\n",
              "    40% {\n",
              "      border-color: transparent;\n",
              "      border-right-color: var(--fill-color);\n",
              "      border-top-color: var(--fill-color);\n",
              "    }\n",
              "    60% {\n",
              "      border-color: transparent;\n",
              "      border-right-color: var(--fill-color);\n",
              "    }\n",
              "    80% {\n",
              "      border-color: transparent;\n",
              "      border-right-color: var(--fill-color);\n",
              "      border-bottom-color: var(--fill-color);\n",
              "    }\n",
              "    90% {\n",
              "      border-color: transparent;\n",
              "      border-bottom-color: var(--fill-color);\n",
              "    }\n",
              "  }\n",
              "</style>\n",
              "\n",
              "  <script>\n",
              "    async function quickchart(key) {\n",
              "      const quickchartButtonEl =\n",
              "        document.querySelector('#' + key + ' button');\n",
              "      quickchartButtonEl.disabled = true;  // To prevent multiple clicks.\n",
              "      quickchartButtonEl.classList.add('colab-df-spinner');\n",
              "      try {\n",
              "        const charts = await google.colab.kernel.invokeFunction(\n",
              "            'suggestCharts', [key], {});\n",
              "      } catch (error) {\n",
              "        console.error('Error during call to suggestCharts:', error);\n",
              "      }\n",
              "      quickchartButtonEl.classList.remove('colab-df-spinner');\n",
              "      quickchartButtonEl.classList.add('colab-df-quickchart-complete');\n",
              "    }\n",
              "    (() => {\n",
              "      let quickchartButtonEl =\n",
              "        document.querySelector('#df-fd93677f-9b68-4650-9a9d-1fcb47930a51 button');\n",
              "      quickchartButtonEl.style.display =\n",
              "        google.colab.kernel.accessAllowed ? 'block' : 'none';\n",
              "    })();\n",
              "  </script>\n",
              "</div>\n",
              "\n",
              "    </div>\n",
              "  </div>\n"
            ],
            "application/vnd.google.colaboratory.intrinsic+json": {
              "type": "dataframe",
              "summary": "{\n  \"name\": \"forecast_df\",\n  \"rows\": 5,\n  \"fields\": [\n    {\n      \"column\": \"Year\",\n      \"properties\": {\n        \"dtype\": \"number\",\n        \"std\": 1,\n        \"min\": 2046,\n        \"max\": 2050,\n        \"num_unique_values\": 5,\n        \"samples\": [\n          2047,\n          2050,\n          2048\n        ],\n        \"semantic_type\": \"\",\n        \"description\": \"\"\n      }\n    },\n    {\n      \"column\": \"Forecasted Emissions (kt CO2e)\",\n      \"properties\": {\n        \"dtype\": \"float32\",\n        \"num_unique_values\": 4,\n        \"samples\": [\n          107.17835235595703,\n          107.17843627929688,\n          107.17838287353516\n        ],\n        \"semantic_type\": \"\",\n        \"description\": \"\"\n      }\n    }\n  ]\n}"
            }
          },
          "metadata": {},
          "execution_count": 72
        }
      ]
    },
    {
      "cell_type": "code",
      "source": [
        "from sklearn.preprocessing import MinMaxScaler\n",
        "from tensorflow.keras.models import Sequential\n",
        "from tensorflow.keras.layers import LSTM, Dense, Dropout\n",
        "import pandas as pd\n",
        "import numpy as np\n",
        "\n",
        "# Set parameters\n",
        "window_size = 5\n",
        "forecast_horizon = 28  # 2023–2050\n",
        "target_col = 'CO2 emissions within the scope of influence of LAs (kt CO2)'\n",
        "results = []\n",
        "\n",
        "# Loop through each Local Authority\n",
        "for authority, group in df1.groupby('Local Authority'):\n",
        "\n",
        "    try:\n",
        "        # Step 1: Prepare and sort data\n",
        "        group = group.sort_values('Calendar Year')\n",
        "        group['timestamp'] = pd.to_datetime(group['Calendar Year'], format='%Y')\n",
        "        group.set_index('timestamp', inplace=True)\n",
        "        series = group[[target_col]].copy()\n",
        "\n",
        "        if len(series) < window_size + 5:\n",
        "            continue  # Skip if not enough data\n",
        "\n",
        "        # Step 2: Scale emissions\n",
        "        scaler = MinMaxScaler()\n",
        "        scaled_data = scaler.fit_transform(series)\n",
        "\n",
        "        # Step 3: Create sequences\n",
        "        def create_sequences(data, window_size):\n",
        "            X, y = [], []\n",
        "            for i in range(len(data) - window_size):\n",
        "                X.append(data[i:i+window_size])\n",
        "                y.append(data[i+window_size])\n",
        "            return np.array(X), np.array(y)\n",
        "\n",
        "        X, y = create_sequences(scaled_data, window_size)\n",
        "\n",
        "        # Step 4: Train LSTM\n",
        "        model = Sequential()\n",
        "        model.add(LSTM(64, return_sequences=True, input_shape=(X.shape[1], X.shape[2])))\n",
        "        model.add(Dropout(0.2))\n",
        "        model.add(LSTM(32))\n",
        "        model.add(Dense(1))\n",
        "        model.compile(optimizer='adam', loss='mse')\n",
        "        model.fit(X, y, epochs=20, batch_size=2, callbacks=[early_stop], verbose=0)\n",
        "\n",
        "        # Step 5: Forecast 28 years ahead from 2022 (use last full sequence)\n",
        "        forecast_input = list(scaled_data[-window_size:])\n",
        "        forecast_preds = []\n",
        "\n",
        "        for _ in range(forecast_horizon):\n",
        "            input_seq = np.array(forecast_input[-window_size:]).reshape(1, window_size, 1)\n",
        "            pred = model.predict(input_seq, verbose=0)\n",
        "            forecast_preds.append(pred[0][0])\n",
        "            forecast_input.append([pred[0][0]])\n",
        "\n",
        "        # Step 6: Inverse transform\n",
        "        forecast_emissions = scaler.inverse_transform(np.array(forecast_preds).reshape(-1, 1))\n",
        "\n",
        "        # Step 7: Save 2050 value\n",
        "        emission_2050 = forecast_emissions[-1][0]\n",
        "        results.append((authority, emission_2050))\n",
        "\n",
        "    except Exception as e:\n",
        "        print(f\" Skipping {authority}: {e}\")\n",
        "        continue\n",
        "\n",
        "# Step 8: Create final DataFrame\n",
        "forecast_2050_df = pd.DataFrame(results, columns=['Local Authority', 'Forecasted Emissions (2050)'])\n",
        "forecast_2050_df.sort_values(by='Forecasted Emissions (2050)', inplace=True)\n",
        "\n",
        "# Step 9: Save or display\n",
        "print(forecast_2050_df.head(10))  # top 10 lowest\n",
        "forecast_2050_df.to_csv(\"forecast_2050_per_local_authority.csv\", index=False)\n"
      ],
      "metadata": {
        "colab": {
          "base_uri": "https://localhost:8080/"
        },
        "id": "dc26Ni3LpLv8",
        "outputId": "fc95478a-93e1-4875-ae0b-89abf0350d7a"
      },
      "execution_count": 73,
      "outputs": [
        {
          "output_type": "stream",
          "name": "stdout",
          "text": [
            "                Local Authority  Forecasted Emissions (2050)\n",
            "8       North East Lincolnshire                    53.342632\n",
            "2                    Calderdale                    55.692436\n",
            "5   Kingston upon Hull, City of                    58.885376\n",
            "14                         York                    59.591003\n",
            "0                      Barnsley                    62.320961\n",
            "9            North Lincolnshire                    67.287109\n",
            "11                    Rotherham                    71.952698\n",
            "6                      Kirklees                    94.033577\n",
            "3                     Doncaster                    98.940010\n",
            "13                    Wakefield                   104.439102\n"
          ]
        }
      ]
    },
    {
      "cell_type": "code",
      "source": [
        "import matplotlib.pyplot as plt\n",
        "\n",
        "# Sort DataFrame by emissions\n",
        "sorted_df = forecast_2050_df.sort_values(by='Forecasted Emissions (2050)')\n",
        "\n",
        "# Optional: select top 10 lowest or highest\n",
        "top_n = 5\n",
        "plot_df = sorted_df.head(top_n)\n",
        "\n",
        "# Plot\n",
        "plt.figure(figsize=(12, 8))\n",
        "plt.barh(plot_df['Local Authority'], plot_df['Forecasted Emissions (2050)'], edgecolor='black')\n",
        "plt.xlabel('Forecasted Emissions in 2050 (kt CO2e)')\n",
        "plt.title(f'Top {top_n} Local Authorities with Lowest Forecasted Emissions (2050)')\n",
        "plt.gca().invert_yaxis()  # So the lowest value is at the top\n",
        "plt.grid(axis='x', linestyle='--', alpha=0.7)\n",
        "plt.tight_layout()\n",
        "plt.show()\n"
      ],
      "metadata": {
        "colab": {
          "base_uri": "https://localhost:8080/",
          "height": 807
        },
        "id": "Nw2_AjPEOdpp",
        "outputId": "0906b3d8-ec0e-4328-f31a-82091ab1be09"
      },
      "execution_count": 74,
      "outputs": [
        {
          "output_type": "display_data",
          "data": {
            "text/plain": [
              "<Figure size 1200x800 with 1 Axes>"
            ],
            "image/png": "[encoded data removed]"
          },
          "metadata": {}
        }
      ]
    },
    {
      "cell_type": "code",
      "source": [],
      "metadata": {
        "id": "xImCNlIOOnrp"
      },
      "execution_count": 74,
      "outputs": []
    }
  ]
}